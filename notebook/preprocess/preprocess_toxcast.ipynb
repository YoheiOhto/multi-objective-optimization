{
 "cells": [
  {
   "cell_type": "markdown",
   "metadata": {},
   "source": [
    "# extract CAS-RN and toxicity data from toxcast\n",
    "----------\n",
    "## extract tox21 ER or AR test from toxcast and extract CAS-RN and toxicity data "
   ]
  },
  {
   "cell_type": "code",
   "execution_count": 8,
   "metadata": {},
   "outputs": [],
   "source": [
    "import pandas as pd\n",
    "from tqdm import tqdm"
   ]
  },
  {
   "cell_type": "code",
   "execution_count": 3,
   "metadata": {},
   "outputs": [],
   "source": [
    "df = pd.read_csv(\"../../data/row/whole/m5dat.tsv\", sep=\"\\t\")"
   ]
  },
  {
   "cell_type": "code",
   "execution_count": 12,
   "metadata": {},
   "outputs": [
    {
     "name": "stderr",
     "output_type": "stream",
     "text": [
      "100%|██████████| 3720594/3720594 [00:59<00:00, 62733.80it/s]\n"
     ]
    },
    {
     "name": "stdout",
     "output_type": "stream",
     "text": [
      "AR Agonist DONE!\n"
     ]
    },
    {
     "name": "stderr",
     "output_type": "stream",
     "text": [
      "100%|██████████| 3720594/3720594 [00:49<00:00, 75309.11it/s] \n"
     ]
    },
    {
     "name": "stdout",
     "output_type": "stream",
     "text": [
      "AR Antagonist DONE!\n"
     ]
    },
    {
     "name": "stderr",
     "output_type": "stream",
     "text": [
      "100%|██████████| 3720594/3720594 [00:27<00:00, 135288.45it/s]\n"
     ]
    },
    {
     "name": "stdout",
     "output_type": "stream",
     "text": [
      "ERa Agonist DONE!\n"
     ]
    },
    {
     "name": "stderr",
     "output_type": "stream",
     "text": [
      "100%|██████████| 3720594/3720594 [00:27<00:00, 134440.43it/s]\n"
     ]
    },
    {
     "name": "stdout",
     "output_type": "stream",
     "text": [
      "ERa Antagonist DONE!\n"
     ]
    },
    {
     "name": "stderr",
     "output_type": "stream",
     "text": [
      "100%|██████████| 3720594/3720594 [00:27<00:00, 136336.36it/s]\n"
     ]
    },
    {
     "name": "stdout",
     "output_type": "stream",
     "text": [
      "ERb Agonist DONE!\n"
     ]
    },
    {
     "name": "stderr",
     "output_type": "stream",
     "text": [
      "100%|██████████| 3720594/3720594 [00:27<00:00, 137511.15it/s]"
     ]
    },
    {
     "name": "stdout",
     "output_type": "stream",
     "text": [
      "ERb Antagonist DONE!\n"
     ]
    },
    {
     "name": "stderr",
     "output_type": "stream",
     "text": [
      "\n"
     ]
    }
   ],
   "source": [
    "for rec in [\"AR\", \"ERa\", \"ERb\"]:\n",
    "    for lig in [\"Agonist\", \"Antagonist\"]:\n",
    "        set_assey = set()\n",
    "        for i in range(len(df)):\n",
    "            if \"TOX21\" in df[\"aenm\"][i] and f\"_{rec}_\" in df[\"aenm\"][i] and lig in df[\"aenm\"][i]:\n",
    "                set_assey.add(df[\"aenm\"][i])\n",
    "\n",
    "        before_tsv = []\n",
    "        for i in tqdm(range(len(df))):\n",
    "            if df[\"aenm\"][i] in set_assey:\n",
    "                col = []\n",
    "                col.append(df[\"casn\"][i])\n",
    "                col.append(df[\"hitc\"][i])\n",
    "                before_tsv.append(col)\n",
    "        \n",
    "        cas_sev = dict()\n",
    "        for i in range(len(before_tsv)):\n",
    "            if before_tsv[i][0] == \"nan\":\n",
    "                continue\n",
    "            elif before_tsv[i][0] in cas_sev.keys():\n",
    "                cas_sev[before_tsv[i][0]].add(before_tsv[i][1])\n",
    "            elif before_tsv[i][0] not in cas_sev.keys():\n",
    "                cas_sev[before_tsv[i][0]] = set()\n",
    "                cas_sev[before_tsv[i][0]].add(before_tsv[i][1])\n",
    "\n",
    "        tsv = []\n",
    "        for cas in cas_sev.keys():\n",
    "            col = []\n",
    "            col.append(cas)\n",
    "            if 1 in cas_sev[cas]:\n",
    "                col.append(1)\n",
    "            else:\n",
    "                col.append(0)\n",
    "            tsv.append(col)\n",
    "\n",
    "        if lig == \"Agonist\":\n",
    "            l = \"ago\"\n",
    "        elif lig == \"Antagonist\":\n",
    "            l = \"anta\"\n",
    "\n",
    "        pd.DataFrame(tsv).to_csv(f\"../../data/processed/tox21/tox21_{rec}_{l}.tsv\", sep=\"\\t\", header=None, index=False)\n",
    "\n",
    "        print(rec, lig, \"DONE!\")"
   ]
  },
  {
   "cell_type": "markdown",
   "metadata": {},
   "source": [
    "## for validation test\n",
    "--------\n",
    "### Each jacvam validation test for endocrine disruption confirms the following different ligands.  \n",
    "・jacvam_09_01 agonist    → ER (ERa + ERb) agonist  \n",
    "・jacvam_09_01 antagonist → ER (ERa + ERb) antagonist  \n",
    "・jacvam_09_02 agonist    → ERa agonist  \n",
    "・jacvam_09_02 antagonist → ERa antagonist  \n",
    "・jacvam_09_04 agonist    → AR agonist  \n",
    "・jacvam_09_04 antagonist → AR antagonist  \n",
    "・jacvam_09_05 agonist    → AR agonist  \n",
    "・jacvam_09_06 antagonist → AR antagonist  \n",
    "・jacvam_09_07            → ER (ERa + ERb) agonist and antagonist  "
   ]
  },
  {
   "cell_type": "code",
   "execution_count": 2,
   "metadata": {},
   "outputs": [],
   "source": [
    "import os\n",
    "import sys\n",
    "\n",
    "current_dir = os.getcwd()\n",
    "parent_parent_dir = os.path.dirname(os.path.dirname(current_dir))\n",
    "src_dir = os.path.join(parent_parent_dir, 'src')\n",
    "sys.path.append(src_dir)\n",
    "\n",
    "from prep import prep_for_09"
   ]
  },
  {
   "cell_type": "code",
   "execution_count": 3,
   "metadata": {},
   "outputs": [
    {
     "name": "stdout",
     "output_type": "stream",
     "text": [
      "01 ago DONE!\n",
      "01 anta DONE!\n",
      "02 ago DONE!\n",
      "02 anta DONE!\n",
      "04 ago DONE!\n",
      "04 anta DONE!\n",
      "05 ago DONE!\n",
      "05 anta DONE!\n",
      "07 DONE!\n"
     ]
    }
   ],
   "source": [
    "for test in [\"01\", \"02\", \"04\", \"05\"]:\n",
    "    for lig in [\"ago\", \"anta\"]:\n",
    "        prep_for_09(test, lig)\n",
    "        print(test, lig, \"DONE!\")\n",
    "\n",
    "prep_for_09(\"07\")\n",
    "print(\"07 DONE!\")"
   ]
  },
  {
   "cell_type": "code",
   "execution_count": null,
   "metadata": {},
   "outputs": [],
   "source": []
  }
 ],
 "metadata": {
  "kernelspec": {
   "display_name": "Python 3",
   "language": "python",
   "name": "python3"
  },
  "language_info": {
   "codemirror_mode": {
    "name": "ipython",
    "version": 3
   },
   "file_extension": ".py",
   "mimetype": "text/x-python",
   "name": "python",
   "nbconvert_exporter": "python",
   "pygments_lexer": "ipython3",
   "version": "3.10.9"
  }
 },
 "nbformat": 4,
 "nbformat_minor": 2
}
