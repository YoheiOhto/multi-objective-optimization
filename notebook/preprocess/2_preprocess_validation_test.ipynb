{
 "cells": [
  {
   "cell_type": "markdown",
   "metadata": {},
   "source": [
    "# make dataset for genetic algolism\n",
    "-----\n",
    "・make CASRN-severity dataset without validation test's compounds"
   ]
  },
  {
   "cell_type": "code",
   "execution_count": 1,
   "metadata": {},
   "outputs": [],
   "source": [
    "import os\n",
    "import sys\n",
    "\n",
    "current_dir = os.getcwd()\n",
    "parent_parent_dir = os.path.dirname(os.path.dirname(current_dir))\n",
    "src_dir = os.path.join(parent_parent_dir, 'src')\n",
    "sys.path.append(src_dir)\n",
    "\n",
    "from prep import prep_for_ga"
   ]
  },
  {
   "cell_type": "code",
   "execution_count": 4,
   "metadata": {},
   "outputs": [
    {
     "name": "stdout",
     "output_type": "stream",
     "text": [
      "0901 ago\n",
      "0901 anta\n",
      "0902 ago\n",
      "0902 anta\n",
      "0904 ago\n",
      "0904 anta\n",
      "0905 ago\n",
      "0905 anta\n",
      "0907\n",
      "0701\n",
      "0702\n",
      "1001\n",
      "1002\n"
     ]
    }
   ],
   "source": [
    "for test_num in [\"0901\", \"0902\", \"0904\", \"0905\"]:\n",
    "    for lig in [\"ago\", \"anta\"]:\n",
    "        print(test_num, lig)\n",
    "        prep_for_ga(test_num, lig)\n",
    "\n",
    "for test_num in [\"0907\", \"0701\", \"0702\", \"1001\", \"1002\"]:\n",
    "    print(test_num)\n",
    "    prep_for_ga(test_num)"
   ]
  },
  {
   "cell_type": "markdown",
   "metadata": {},
   "source": [
    "# make dataset for validation test\n",
    "----\n",
    "・make CASRN-severity dataset with validation test's compounds  \n",
    "・if validation test's compound's severity data is not in ICE or TOXCAST data, use jacvam's data (written in jacvam's text)"
   ]
  },
  {
   "cell_type": "code",
   "execution_count": 3,
   "metadata": {},
   "outputs": [],
   "source": [
    "import os\n",
    "import sys\n",
    "\n",
    "current_dir = os.getcwd()\n",
    "parent_parent_dir = os.path.dirname(os.path.dirname(current_dir))\n",
    "src_dir = os.path.join(parent_parent_dir, 'src')\n",
    "sys.path.append(src_dir)\n",
    "\n",
    "from prep import prep_validation"
   ]
  },
  {
   "cell_type": "code",
   "execution_count": 4,
   "metadata": {},
   "outputs": [
    {
     "name": "stdout",
     "output_type": "stream",
     "text": [
      "0901 ago\n",
      "['90375-06-05']\n",
      "0901 anta\n",
      "[]\n",
      "0902 ago\n",
      "['53-16-7 ', '25154-52-3', '797-63-7 ', '32809-16-8 ', '7500-76-7', '68-22-4 ', '50471-44-8 ', '1806-26-4 ', '52-01-7 ', '446-72-0 ', '81-90-3 ', '119-61-9 ', '315-37-7', '93-76-5 ', '50-22-6 ', '117-81-7 ', '84-16-2 ', '611-99-4 ', '520-36-5 ', '480-16-0', '1131-60-8', '90-96-0 ', '1912-24-9 ', '10161-33-8 ', '29082-74-4 ', '50-55-5 ', '131-55-5 ', '29799-07-3', '77-08-7', '65277-42-1 ']\n",
      "0902 anta\n",
      "['110726-28-8', '289726-02-9']\n",
      "0904 ago\n",
      "['965-93-5', '85-68-7 ', '71-58-9 ', '57-63-6 ', '80-05-07']\n",
      "0904 anta\n",
      "['80-05-07', '13311-84-7 ', '965-93-5']\n",
      "0905 ago\n",
      "[]\n",
      "0905 anta\n",
      "[]\n",
      "0907\n",
      "['1950/2/2', '531-95-3', '1980/5/7']\n",
      "0701\n",
      "['7784-46-5', '54-62-6', '73791-47-6', '99-66-1', '7758-99-8', '1330-20-7', '7647-14-5', '56-38-2', '89-57-6', '66-81-9', '56-75-7', '10108-64-2', '77-06-5', '7446-18-6', '7447-40-7', '10043-35-3', '13410-01-01', '64-86-8', '62-73-7', '7681-49-4', '76-03-9', '39515-41-8', '7487-94-7', '76-87-9', '57-47-6', '549-18-8', '614-39-1', '58-89-9', '94-13-3', '55-98-1', '8007-59-8', '1327-53-3', '56-23-5', '7789-12-0']\n",
      "0702\n",
      "['26761-40-0', '1314-13-2', '302-27-2', '91-53-2', '68515-48-0', ' 120-82-1', '7758-98-7', '124-07-02', '79-94-7', '60-00-4', '9005-64-5', '557-05-1', '109-77-3', '7779-90-0', '110-16-7', '12125-02-9', '97-74-5', '866-84-2', '105-39-5', '1338-39-2', '10361-37-2', '7778-80-5', ' 57-13-6', '102-76-1 ']\n",
      "1001\n",
      "['69-57-8', '54-21-7', '127-07-1', '329-89-5', '695-53-4', '99-66-1', '131-11-3', '625-45-6', '1979/6/1', '115-09-3', '464-49-3', '7447-41-8', '1959/5/2', '82385-42-0', '59-14-3']\n",
      "1002\n",
      "[' 54-85-3', '625-45-6', '51481-61-9', '127-07-1', '329-89-5 ', '695-53-4', '34381-68-5', '109-86-4 ', '50-02-2', '131-11-3']\n"
     ]
    }
   ],
   "source": [
    "for test_num in [\"0901\", \"0902\", \"0904\", \"0905\"]:\n",
    "    for lig in [\"ago\", \"anta\"]:\n",
    "        print(test_num, lig)\n",
    "        prep_validation(test_num, lig)\n",
    "\n",
    "for test_num in [\"0907\", \"0701\", \"0702\", \"1001\", \"1002\"]:\n",
    "    print(test_num)\n",
    "    prep_validation(test_num)"
   ]
  },
  {
   "cell_type": "markdown",
   "metadata": {},
   "source": [
    "### get toxisity data about printed CASRN from jacvam text \n",
    "save in ../../data/row/validation_test_cas_not_in_whole"
   ]
  },
  {
   "cell_type": "markdown",
   "metadata": {},
   "source": [
    "assign data in ../../data/row/validation_test_CAS_not_in_whole "
   ]
  },
  {
   "cell_type": "code",
   "execution_count": 2,
   "metadata": {},
   "outputs": [],
   "source": [
    "import pandas as pd"
   ]
  },
  {
   "cell_type": "code",
   "execution_count": 15,
   "metadata": {},
   "outputs": [],
   "source": [
    "df = pd.read_csv(\"/workspace/HDD1/user/ohto_2/1-project/2-tox_pred/1-ga_mmo/github/multi-objective-optimization/data/processed/1002/cas_not_in_whole.tsv\", sep=\"\\t\", header=None)"
   ]
  },
  {
   "cell_type": "code",
   "execution_count": 16,
   "metadata": {},
   "outputs": [
    {
     "name": "stdout",
     "output_type": "stream",
     "text": [
      "<class 'pandas.core.frame.DataFrame'>\n",
      "RangeIndex: 10 entries, 0 to 9\n",
      "Data columns (total 2 columns):\n",
      " #   Column  Non-Null Count  Dtype \n",
      "---  ------  --------------  ----- \n",
      " 0   0       10 non-null     object\n",
      " 1   1       10 non-null     int64 \n",
      "dtypes: int64(1), object(1)\n",
      "memory usage: 288.0+ bytes\n"
     ]
    }
   ],
   "source": [
    "df.info()"
   ]
  },
  {
   "cell_type": "code",
   "execution_count": 19,
   "metadata": {},
   "outputs": [],
   "source": [
    "from pandas.errors import EmptyDataError"
   ]
  },
  {
   "cell_type": "code",
   "execution_count": null,
   "metadata": {},
   "outputs": [],
   "source": [
    "for test_num in [\"0901\", \"0902\", \"0904\", \"0905\"]:\n",
    "    for lig in [\"ago\", \"anta\"]:\n",
    "        try:\n",
    "            df_in_whole = pd.read_csv(f\"../../data/processed/{test_num}_{lig}/validation.tsv\", sep=\"\\t\", header=None)\n",
    "            df_not_in_whole = pd.read_csv(f\"../../data/processed/{test_num}_{lig}/cas_not_in_whole.tsv\", sep=\"\\t\", header=None)\n",
    "\n",
    "            df = pd.concat([df_in_whole, df_not_in_whole]).reset_index(drop=True)\n",
    "            df.to_csv(f\"../../data/processed/{test_num}_{lig}/validation.tsv\", sep=\"\\t\", header=None, index=False)\n",
    "        except EmptyDataError:\n",
    "            continue\n",
    "\n",
    "for test_num in [\"0907\", \"0701\", \"0702\", \"1001\", \"1002\"]:\n",
    "    try:\n",
    "        df_in_whole = pd.read_csv(f\"../../data/processed/{test_num}/validation.tsv\", sep=\"\\t\", header=None)\n",
    "        df_not_in_whole = pd.read_csv(f\"../../data/processed/{test_num}/cas_not_in_whole.tsv\", sep=\"\\t\", header=None)\n",
    "\n",
    "        df = pd.concat([df_in_whole, df_not_in_whole]).reset_index(drop=True)\n",
    "        df.to_csv(f\"../../data/processed/{test_num}/validation.tsv\", sep=\"\\t\", header=None, index=False)\n",
    "    except EmptyDataError:\n",
    "        continue"
   ]
  }
 ],
 "metadata": {
  "kernelspec": {
   "display_name": "pip-env",
   "language": "python",
   "name": "python3"
  },
  "language_info": {
   "codemirror_mode": {
    "name": "ipython",
    "version": 3
   },
   "file_extension": ".py",
   "mimetype": "text/x-python",
   "name": "python",
   "nbconvert_exporter": "python",
   "pygments_lexer": "ipython3",
   "version": "3.10.9"
  }
 },
 "nbformat": 4,
 "nbformat_minor": 2
}
