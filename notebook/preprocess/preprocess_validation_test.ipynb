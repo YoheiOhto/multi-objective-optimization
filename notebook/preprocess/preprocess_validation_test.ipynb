{
 "cells": [
  {
   "cell_type": "markdown",
   "metadata": {},
   "source": [
    "# make dataset for genetic algolism\n",
    "-----\n",
    "・make CASRN-severity dataset without validation test's compounds"
   ]
  },
  {
   "cell_type": "code",
   "execution_count": 18,
   "metadata": {},
   "outputs": [],
   "source": [
    "import os\n",
    "import sys\n",
    "\n",
    "current_dir = os.getcwd()\n",
    "parent_parent_dir = os.path.dirname(os.path.dirname(current_dir))\n",
    "src_dir = os.path.join(parent_parent_dir, 'src')\n",
    "sys.path.append(src_dir)\n",
    "\n",
    "from prep import prep_for_ga"
   ]
  },
  {
   "cell_type": "code",
   "execution_count": 19,
   "metadata": {},
   "outputs": [
    {
     "name": "stdout",
     "output_type": "stream",
     "text": [
      "0901 ago\n",
      "0901 anta\n",
      "0902 ago\n",
      "0902 anta\n",
      "0904 ago\n",
      "0904 anta\n",
      "0905 ago\n",
      "0905 anta\n",
      "0907\n",
      "0701\n",
      "0702\n",
      "1001\n",
      "1002\n"
     ]
    }
   ],
   "source": [
    "for test_num in [\"0901\", \"0902\", \"0904\", \"0905\"]:\n",
    "    for lig in [\"ago\", \"anta\"]:\n",
    "        print(test_num, lig)\n",
    "        prep_for_ga(test_num, lig)\n",
    "\n",
    "for test_num in [\"0907\", \"0701\", \"0702\", \"1001\", \"1002\"]:\n",
    "    print(test_num)\n",
    "    prep_for_ga(test_num)"
   ]
  },
  {
   "cell_type": "markdown",
   "metadata": {},
   "source": [
    "# make dataset for validation test\n",
    "----\n",
    "・make CASRN-severity dataset with validation test's compounds  \n",
    "・if validation test's compound's severity data is not in ICE or TOXCAST data, use jacvam's data (written in jacvam's text)"
   ]
  },
  {
   "cell_type": "code",
   "execution_count": 14,
   "metadata": {},
   "outputs": [],
   "source": [
    "import os\n",
    "import sys\n",
    "\n",
    "current_dir = os.getcwd()\n",
    "parent_parent_dir = os.path.dirname(os.path.dirname(current_dir))\n",
    "src_dir = os.path.join(parent_parent_dir, 'src')\n",
    "sys.path.append(src_dir)\n",
    "\n",
    "from prep import prep_validation"
   ]
  },
  {
   "cell_type": "code",
   "execution_count": 15,
   "metadata": {},
   "outputs": [
    {
     "name": "stdout",
     "output_type": "stream",
     "text": [
      "0901 ago\n",
      "['90375-06-05']\n",
      "0901 anta\n",
      "[]\n",
      "0902 ago\n",
      "['480-16-0', '90-96-0', '77-08-7', '25154-52-3', '315-37-7', '29799-07-3', '7500-76-7', '29082-74-4', '1131-60-8']\n",
      "0902 anta\n",
      "['110726-28-8', '289726-02-9']\n",
      "0904 ago\n",
      "['965-93-5', '80-05-07']\n",
      "0904 anta\n",
      "['965-93-5', '13311-84-7 ', '80-05-07']\n",
      "0905 ago\n",
      "[]\n",
      "0905 anta\n",
      "[]\n",
      "0907\n",
      "['531-95-3']\n",
      "0701\n",
      "['7487-94-7', '614-39-1', '549-18-8', '39515-41-8', '7681-49-4', '66-81-9', '8007-59-8', '56-23-5', '56-75-7', '76-87-9', '1327-53-3', '7758-99-8', '77-06-5', '7447-40-7', '54-62-6', '64-86-8', '13410-01-01', '7446-18-6', '7647-14-5', '7789-12-0', '73791-47-6', '1330-20-7', '89-57-6', '94-13-3', '7784-46-5', '62-73-7', '57-47-6', '55-98-1', '10108-64-2', '76-03-9', '99-66-1', '10043-35-3', '58-89-9', '56-38-2']\n",
      "0702\n",
      "['7779-90-0', '7778-80-5', ' 120-82-1', '109-77-3', '26761-40-0', '110-16-7', '557-05-1', '1314-13-2', ' 57-13-6', '7758-98-7', '79-94-7', '866-84-2', '102-76-1 ', '124-07-02', '97-74-5', '91-53-2', '302-27-2', '12125-02-9', '9005-64-5', '68515-48-0', '1338-39-2', '105-39-5', '10361-37-2', '60-00-4']\n",
      "1001\n",
      "['59-14-3', '127-07-1', '115-09-3', '464-49-3', '131-11-3', '7447-41-8', '82385-42-0', '54-21-7', '99-66-1', '329-89-5', '695-53-4', '625-45-6', '69-57-8']\n",
      "1002\n",
      "['54-85-3', '127-07-1', '329-89-5 ', '34381-68-5', '51481-61-9', '50-02-2', '695-53-4', '625-45-6', '131-11-3']\n"
     ]
    }
   ],
   "source": [
    "for test_num in [\"0901\", \"0902\", \"0904\", \"0905\"]:\n",
    "    for lig in [\"ago\", \"anta\"]:\n",
    "        print(test_num, lig)\n",
    "        prep_validation(test_num, lig)\n",
    "\n",
    "for test_num in [\"0907\", \"0701\", \"0702\", \"1001\", \"1002\"]:\n",
    "    print(test_num)\n",
    "    prep_validation(test_num)"
   ]
  },
  {
   "cell_type": "markdown",
   "metadata": {},
   "source": [
    "### get toxisity data about printed CASRN from jacvam text \n",
    "save in ../../data/row/validation_test_CAS_not_in_whole"
   ]
  },
  {
   "cell_type": "markdown",
   "metadata": {},
   "source": [
    "assign data in ../../data/row/validation_test_CAS_not_in_whole "
   ]
  },
  {
   "cell_type": "code",
   "execution_count": 11,
   "metadata": {},
   "outputs": [],
   "source": [
    "import pandas as pd"
   ]
  },
  {
   "cell_type": "code",
   "execution_count": 8,
   "metadata": {},
   "outputs": [],
   "source": [
    "file_paths = []\n",
    "directory = \"../../data/row/validation_test_CAS_not_in_whole\"\n",
    "\n",
    "for root, _, files in os.walk(directory):\n",
    "    for file in files:\n",
    "        file_path = os.path.join(root, file)\n",
    "        file_paths.append(file_path)"
   ]
  },
  {
   "cell_type": "code",
   "execution_count": 16,
   "metadata": {},
   "outputs": [],
   "source": [
    "for path in file_paths:\n",
    "    test_name = path.replace(directory, \"\").replace(\"/\", \"\").replace(\".csv\", \"\")\n",
    "\n",
    "    df_in_whole = pd.read_csv(f\"../../data/processed/{test_name}/validation.tsv\", sep=\"\\t\", header=None)\n",
    "    df_not_in_whole = pd.read_csv(path, header=None)\n",
    "\n",
    "    df = pd.concat([df_in_whole, df_not_in_whole]).reset_index(drop=True)\n",
    "    df.to_csv(f\"../../data/processed/{test_name}/validation.tsv\", sep=\"\\t\", header=None, index=False)\n",
    "    "
   ]
  }
 ],
 "metadata": {
  "kernelspec": {
   "display_name": "Python 3",
   "language": "python",
   "name": "python3"
  },
  "language_info": {
   "codemirror_mode": {
    "name": "ipython",
    "version": 3
   },
   "file_extension": ".py",
   "mimetype": "text/x-python",
   "name": "python",
   "nbconvert_exporter": "python",
   "pygments_lexer": "ipython3",
   "version": "3.10.9"
  }
 },
 "nbformat": 4,
 "nbformat_minor": 2
}
