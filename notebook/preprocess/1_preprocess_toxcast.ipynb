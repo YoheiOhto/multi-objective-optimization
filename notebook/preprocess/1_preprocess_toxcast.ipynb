{
 "cells": [
  {
   "cell_type": "markdown",
   "metadata": {},
   "source": [
    "# extract CAS-RN and toxicity data from toxcast\n",
    "----------\n",
    "## extract tox21 ER or AR test from toxcast and extract CAS-RN and toxicity data "
   ]
  },
  {
   "cell_type": "code",
   "execution_count": 1,
   "metadata": {},
   "outputs": [],
   "source": [
    "import pandas as pd\n",
    "from tqdm import tqdm"
   ]
  },
  {
   "cell_type": "code",
   "execution_count": 3,
   "metadata": {},
   "outputs": [],
   "source": [
    "df = pd.read_csv(\"../../data/processed/toxcast/m5dat.tsv\", sep=\"\\t\")"
   ]
  },
  {
   "cell_type": "code",
   "execution_count": 5,
   "metadata": {},
   "outputs": [
    {
     "name": "stderr",
     "output_type": "stream",
     "text": [
      "100%|██████████| 3720594/3720594 [00:53<00:00, 70076.29it/s] \n"
     ]
    },
    {
     "name": "stdout",
     "output_type": "stream",
     "text": [
      "AR Agonist DONE!\n"
     ]
    },
    {
     "name": "stderr",
     "output_type": "stream",
     "text": [
      "100%|██████████| 3720594/3720594 [01:04<00:00, 57420.81it/s] \n"
     ]
    },
    {
     "name": "stdout",
     "output_type": "stream",
     "text": [
      "AR Antagonist DONE!\n"
     ]
    },
    {
     "name": "stderr",
     "output_type": "stream",
     "text": [
      "100%|██████████| 3720594/3720594 [00:43<00:00, 84624.97it/s] \n"
     ]
    },
    {
     "name": "stdout",
     "output_type": "stream",
     "text": [
      "ERa Agonist DONE!\n"
     ]
    },
    {
     "name": "stderr",
     "output_type": "stream",
     "text": [
      "100%|██████████| 3720594/3720594 [00:34<00:00, 106629.71it/s]\n"
     ]
    },
    {
     "name": "stdout",
     "output_type": "stream",
     "text": [
      "ERa Antagonist DONE!\n"
     ]
    },
    {
     "name": "stderr",
     "output_type": "stream",
     "text": [
      "100%|██████████| 3720594/3720594 [00:34<00:00, 107601.38it/s]\n"
     ]
    },
    {
     "name": "stdout",
     "output_type": "stream",
     "text": [
      "ERb Agonist DONE!\n"
     ]
    },
    {
     "name": "stderr",
     "output_type": "stream",
     "text": [
      "100%|██████████| 3720594/3720594 [00:34<00:00, 106305.87it/s]"
     ]
    },
    {
     "name": "stdout",
     "output_type": "stream",
     "text": [
      "ERb Antagonist DONE!\n"
     ]
    },
    {
     "name": "stderr",
     "output_type": "stream",
     "text": [
      "\n"
     ]
    }
   ],
   "source": [
    "for rec in [\"AR\", \"ERa\", \"ERb\"]:\n",
    "    for lig in [\"Agonist\", \"Antagonist\"]:\n",
    "        set_assey = set()\n",
    "        for i in range(len(df)):\n",
    "            if \"TOX21\" in df[\"aenm\"][i] and f\"_{rec}_\" in df[\"aenm\"][i] and lig in df[\"aenm\"][i]:\n",
    "                set_assey.add(df[\"aenm\"][i])\n",
    "\n",
    "        before_tsv = []\n",
    "        for i in tqdm(range(len(df))):\n",
    "            if df[\"aenm\"][i] in set_assey:\n",
    "                col = []\n",
    "                col.append(df[\"casn\"][i])\n",
    "                col.append(df[\"hitc\"][i])\n",
    "                before_tsv.append(col)\n",
    "        \n",
    "        cas_sev = dict()\n",
    "        for i in range(len(before_tsv)):\n",
    "            if before_tsv[i][0] == \"nan\":\n",
    "                continue\n",
    "            elif before_tsv[i][0] in cas_sev.keys():\n",
    "                cas_sev[before_tsv[i][0]].add(before_tsv[i][1])\n",
    "            elif before_tsv[i][0] not in cas_sev.keys():\n",
    "                cas_sev[before_tsv[i][0]] = set()\n",
    "                cas_sev[before_tsv[i][0]].add(before_tsv[i][1])\n",
    "\n",
    "        tsv = []\n",
    "        for cas in cas_sev.keys():\n",
    "            col = []\n",
    "            col.append(cas)\n",
    "            if 1 in cas_sev[cas]:\n",
    "                col.append(1)\n",
    "            else:\n",
    "                col.append(0)\n",
    "            tsv.append(col)\n",
    "\n",
    "        if lig == \"Agonist\":\n",
    "            l = \"ago\"\n",
    "        elif lig == \"Antagonist\":\n",
    "            l = \"anta\"\n",
    "\n",
    "        pd.DataFrame(tsv).to_csv(f\"../../data/processed/tox21/tox21_{rec}_{l}.tsv\", sep=\"\\t\", header=None, index=False)\n",
    "\n",
    "        print(rec, lig, \"DONE!\")"
   ]
  },
  {
   "cell_type": "markdown",
   "metadata": {},
   "source": [
    "## for validation test\n",
    "--------\n",
    "### Each jacvam validation test for endocrine disruption confirms the following different ligands.  \n",
    "・jacvam_09_01 agonist    → ER (ERa + ERb) agonist  \n",
    "・jacvam_09_01 antagonist → ER (ERa + ERb) antagonist  \n",
    "・jacvam_09_02 agonist    → ERa agonist  \n",
    "・jacvam_09_02 antagonist → ERa antagonist  \n",
    "・jacvam_09_04 agonist    → AR agonist  \n",
    "・jacvam_09_04 antagonist → AR antagonist  \n",
    "・jacvam_09_05 agonist    → AR agonist  \n",
    "・jacvam_09_06 antagonist → AR antagonist  \n",
    "・jacvam_09_07            → ER (ERa + ERb) agonist and antagonist  "
   ]
  },
  {
   "cell_type": "code",
   "execution_count": 2,
   "metadata": {},
   "outputs": [],
   "source": [
    "import os\n",
    "import sys\n",
    "\n",
    "current_dir = os.getcwd()\n",
    "parent_parent_dir = os.path.dirname(os.path.dirname(current_dir))\n",
    "src_dir = os.path.join(parent_parent_dir, 'src')\n",
    "sys.path.append(src_dir)\n",
    "\n",
    "from prep import prep_for_09"
   ]
  },
  {
   "cell_type": "code",
   "execution_count": 3,
   "metadata": {},
   "outputs": [
    {
     "name": "stdout",
     "output_type": "stream",
     "text": [
      "../../data/processed/0901_ago/cas_sev.tsv is already exists!\n",
      "01 ago DONE!\n",
      "../../data/processed/0901_anta/cas_sev.tsv is already exists!\n",
      "01 anta DONE!\n",
      "../../data/processed/0902_ago/cas_sev.tsv is already exists!\n",
      "02 ago DONE!\n",
      "../../data/processed/0902_anta/cas_sev.tsv is already exists!\n",
      "02 anta DONE!\n",
      "../../data/processed/0904_ago/cas_sev.tsv is already exists!\n",
      "04 ago DONE!\n",
      "../../data/processed/0904_anta/cas_sev.tsv is already exists!\n",
      "04 anta DONE!\n",
      "../../data/processed/0905_ago/cas_sev.tsv is already exists!\n",
      "05 ago DONE!\n",
      "../../data/processed/0905_anta/cas_sev.tsv is already exists!\n",
      "05 anta DONE!\n",
      "../../data/processed/0907/cas_sev.tsv is already exists!\n",
      "07 DONE!\n"
     ]
    }
   ],
   "source": [
    "for test in [\"01\", \"02\", \"04\", \"05\"]:\n",
    "    for lig in [\"ago\", \"anta\"]:\n",
    "        prep_for_09(test, lig)\n",
    "        print(test, lig, \"DONE!\")\n",
    "\n",
    "prep_for_09(\"07\")\n",
    "print(\"07 DONE!\")"
   ]
  },
  {
   "cell_type": "code",
   "execution_count": null,
   "metadata": {},
   "outputs": [],
   "source": []
  }
 ],
 "metadata": {
  "kernelspec": {
   "display_name": "pip-env",
   "language": "python",
   "name": "python3"
  },
  "language_info": {
   "codemirror_mode": {
    "name": "ipython",
    "version": 3
   },
   "file_extension": ".py",
   "mimetype": "text/x-python",
   "name": "python",
   "nbconvert_exporter": "python",
   "pygments_lexer": "ipython3",
   "version": "3.10.9"
  }
 },
 "nbformat": 4,
 "nbformat_minor": 2
}
