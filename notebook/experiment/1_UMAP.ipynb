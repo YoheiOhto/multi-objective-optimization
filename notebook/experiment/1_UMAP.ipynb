{
 "cells": [
  {
   "cell_type": "code",
   "execution_count": 25,
   "metadata": {},
   "outputs": [],
   "source": [
    "import os\n",
    "import sys\n",
    "\n",
    "current_dir = os.getcwd()\n",
    "parent_parent_dir = os.path.dirname(os.path.dirname(current_dir))\n",
    "src_dir = os.path.join(parent_parent_dir, 'src')\n",
    "sys.path.append(src_dir)\n",
    "\n",
    "import ast\n",
    "import itertools\n",
    "import random\n",
    "import time\n",
    "from statistics import variance\n",
    "\n",
    "import matplotlib.pyplot as plt\n",
    "import numpy as np\n",
    "import pandas as pd\n",
    "import seaborn as sns\n",
    "import umap\n",
    "from deap import algorithms, base, creator, tools\n",
    "from ga import not_dup, rand_nodup\n",
    "from rdkit import Chem\n",
    "from rdkit.Chem import AllChem, Draw\n",
    "from scipy.stats import norm\n",
    "from util import pickle_load, robust_z"
   ]
  },
  {
   "cell_type": "code",
   "execution_count": 26,
   "metadata": {},
   "outputs": [],
   "source": [
    "# validation test name\n",
    "test_num = \"0701\"\n",
    "lig = \"!\""
   ]
  },
  {
   "cell_type": "code",
   "execution_count": 27,
   "metadata": {},
   "outputs": [],
   "source": [
    "date = 241219\n",
    "num = 1\n",
    "trys = str(date) + \"_\" + str(num)"
   ]
  },
  {
   "cell_type": "code",
   "execution_count": 28,
   "metadata": {},
   "outputs": [],
   "source": [
    "if lig in [\"ago\", \"anta\"]:\n",
    "    test_name = test_num + \"_\" + lig\n",
    "else:\n",
    "    test_name = test_num\n",
    "    \n",
    "lookup = pickle_load(f\"../../data/processed/{test_name}/for_GA_lookup.pickle\")\n",
    "cas_tox = pd.read_csv(f\"../../data/processed/{test_name}/cas_sev_use.tsv\", sep=\"\\t\", header=None)\n",
    "val = pd.read_csv(f\"../../data/processed/{test_name}/validation_pubchem.tsv\", sep=\"\\t\", header=None) "
   ]
  },
  {
   "cell_type": "code",
   "execution_count": 29,
   "metadata": {},
   "outputs": [],
   "source": [
    "all_smiles = []\n",
    "for i in range(len(cas_tox)):\n",
    "    all_smiles.append(cas_tox.iloc[i,2])\n",
    "\n",
    "molecules = [Chem.MolFromSmiles(smiles) for smiles in all_smiles]"
   ]
  },
  {
   "cell_type": "code",
   "execution_count": 30,
   "metadata": {},
   "outputs": [],
   "source": [
    "fp = [AllChem.GetMorganFingerprintAsBitVect(mol, radius=2, nBits=2048) for mol in molecules]"
   ]
  },
  {
   "cell_type": "code",
   "execution_count": 31,
   "metadata": {},
   "outputs": [],
   "source": [
    "pops = pd.read_csv(f\"../../data/result/{test_name}/GA_{trys}/top_5.tsv\", sep=\"\\t\", header=None)"
   ]
  },
  {
   "cell_type": "code",
   "execution_count": 32,
   "metadata": {},
   "outputs": [],
   "source": [
    "def multi_objective_optimization(individual):\n",
    "    structure_score = 0\n",
    "    phisical_score = 0\n",
    "    toxicity_score = 0\n",
    "    penalty = [100000, -100000, -100000]\n",
    "\n",
    "    if len(individual) != IND_INIT_SIZE:\n",
    "        return penalty[0], penalty[1], penalty[2]\n",
    "    \n",
    "    toxs = []\n",
    "    for i in range(len(list(individual))):\n",
    "        num = list(individual)[i]\n",
    "        toxs.append(standardized_toxs[num])\n",
    "\n",
    "    if tox_scoring == \"discrete\":\n",
    "        count_t = 0\n",
    "        for i in range(len(toxs)):\n",
    "            if toxs[i] == 1:\n",
    "                count_t += 1\n",
    "        mean = len(individual) / 2\n",
    "        std_dev = len(individual) / 10\n",
    "        toxicity_score = norm.pdf(x=count_t, loc=mean, scale=std_dev) * 1000\n",
    "\n",
    "    elif tox_scoring == \"continuous\":\n",
    "        toxicity_score = np.std(toxs)\n",
    "\n",
    "    t = list(itertools.combinations(individual,2))\n",
    "    for i in range(len(t)):\n",
    "        if t[i][0] == t[i][1]:\n",
    "            print(\"!\", flush=True)\n",
    "            return penalty[0], penalty[1], penalty[2]\n",
    "\n",
    "    for i in range(len(t)):\n",
    "        try:\n",
    "            dict_t = lookup[f\"{all_cass[t[i][0]]}, {all_cass[t[i][1]]}\"]\n",
    "        except:\n",
    "            dict_t = lookup[f\"{all_cass[t[i][1]]}, {all_cass[t[i][0]]}\"]\n",
    "\n",
    "        structure = dict_t[0]\n",
    "        phisical = dict_t[1]\n",
    "\n",
    "        structure_score += structure\n",
    "        phisical_score += phisical\n",
    "\n",
    "    return structure_score, phisical_score, toxicity_score"
   ]
  },
  {
   "cell_type": "code",
   "execution_count": 33,
   "metadata": {},
   "outputs": [],
   "source": [
    "best_pop = pops.iloc[-1,0]\n",
    "tox_scoring = \"continuous\"\n",
    "\n",
    "IND_INIT_SIZE = len(val)\n",
    "\n",
    "all_cass = []\n",
    "all_toxs = []\n",
    "for i in range(len(cas_tox)):\n",
    "    all_cass.append(cas_tox.iloc[i,0])\n",
    "    all_toxs.append(cas_tox.iloc[i,1])\n",
    "\n",
    "if tox_scoring == \"continuous\":\n",
    "    standardized_toxs = robust_z(all_toxs)\n",
    "elif tox_scoring == \"discrete\":\n",
    "    standardized_toxs = all_toxs\n",
    "\n",
    "best_pop = best_pop.replace(\"Individual(\", \"\").replace(\")\", \"\")\n",
    "best_pop = list(ast.literal_eval(best_pop))\n",
    "best_score = multi_objective_optimization(best_pop)\n",
    "\n",
    "color = []\n",
    "for i in range(len(cas_tox)):\n",
    "    if i in best_pop:\n",
    "        color.append(\"red\")\n",
    "    else:\n",
    "        color.append(\"blue\")"
   ]
  },
  {
   "cell_type": "code",
   "execution_count": 34,
   "metadata": {},
   "outputs": [
    {
     "name": "stdout",
     "output_type": "stream",
     "text": [
      "(115.15139331880815, 187.30823989219212, 6.9799775997023055)\n"
     ]
    },
    {
     "name": "stderr",
     "output_type": "stream",
     "text": [
      "/opt/pip-env/lib/python3.10/site-packages/umap/umap_.py:1952: UserWarning: n_jobs value 1 overridden to 1 by setting random_state. Use no seed for parallelism.\n",
      "  warn(\n"
     ]
    },
    {
     "data": {
      "image/png": "[encoded data removed]",
      "text/plain": [
       "<Figure size 640x480 with 1 Axes>"
      ]
     },
     "metadata": {},
     "output_type": "display_data"
    }
   ],
   "source": [
    "print(best_score)\n",
    "mapper = umap.UMAP(random_state=0)\n",
    "embedding = mapper.fit_transform(fp)\n",
    "embedding_x = embedding[:, 0]\n",
    "embedding_y = embedding[:, 1]\n",
    "plt.scatter(embedding_x, embedding_y, c=color, linewidths=1)\n",
    "plt.scatter([embedding_x[i] for i in best_pop],  [embedding_y[i] for i in best_pop], c='red', ec='black', linewidth=1)\n",
    "plt.title(f\"{test_name}\")\n",
    "plt.savefig(f\"../../data/result/{test_name}/GA_{trys}/UMAP_[-1,0].png\")\n",
    "plt.show()"
   ]
  },
  {
   "cell_type": "code",
   "execution_count": null,
   "metadata": {},
   "outputs": [],
   "source": []
  }
 ],
 "metadata": {
  "kernelspec": {
   "display_name": "pip-env",
   "language": "python",
   "name": "python3"
  },
  "language_info": {
   "codemirror_mode": {
    "name": "ipython",
    "version": 3
   },
   "file_extension": ".py",
   "mimetype": "text/x-python",
   "name": "python",
   "nbconvert_exporter": "python",
   "pygments_lexer": "ipython3",
   "version": "3.10.9"
  }
 },
 "nbformat": 4,
 "nbformat_minor": 2
}
